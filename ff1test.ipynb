{
 "cells": [
  {
   "cell_type": "code",
   "execution_count": 1,
   "id": "09870ac7-bb68-428c-872f-72dd4280cb67",
   "metadata": {},
   "outputs": [],
   "source": [
    "import fastf1 as ff1\n",
    "from fastf1 import plotting\n",
    "from fastf1 import utils\n",
    "\n",
    "from matplotlib import pyplot as plt\n",
    "from matplotlib.pyplot import figure\n",
    "\n",
    "import numpy as np\n",
    "import pandas as pd"
   ]
  },
  {
   "cell_type": "code",
   "execution_count": 2,
   "id": "823d4763-79d3-47f0-a9d8-67b58c32851c",
   "metadata": {},
   "outputs": [],
   "source": [
    "# enabling caching\n",
    "ff1.Cache.enable_cache('cache')"
   ]
  },
  {
   "cell_type": "code",
   "execution_count": 3,
   "id": "758133b7-1688-4f39-85df-8eb56e0441ed",
   "metadata": {},
   "outputs": [
    {
     "name": "stderr",
     "output_type": "stream",
     "text": [
      "core           INFO \tLoading data for Saudi Arabian Grand Prix - Qualifying [v3.0.7]\n",
      "req            INFO \tUsing cached data for driver_info\n",
      "req            INFO \tUsing cached data for session_status_data\n",
      "req            INFO \tUsing cached data for track_status_data\n",
      "req            INFO \tUsing cached data for timing_data\n",
      "req            INFO \tUsing cached data for timing_app_data\n",
      "core           INFO \tProcessing timing data...\n",
      "req            INFO \tUsing cached data for car_data\n",
      "req            INFO \tUsing cached data for position_data\n",
      "req            INFO \tUsing cached data for weather_data\n",
      "req            INFO \tUsing cached data for race_control_messages\n",
      "core           INFO \tFinished loading data for 20 drivers: ['11', '16', '55', '1', '31', '63', '14', '77', '10', '20', '4', '3', '24', '47', '18', '44', '23', '27', '6', '22']\n"
     ]
    }
   ],
   "source": [
    "year, grand_prix, session = 2022, 'Saudi Arabia', 'Q'\n",
    "\n",
    "quali = ff1.get_session(year, grand_prix, session)\n",
    "quali.load()"
   ]
  },
  {
   "cell_type": "code",
   "execution_count": 4,
   "id": "5f7477af-6030-450f-b1ab-f5b9fb5dc847",
   "metadata": {},
   "outputs": [],
   "source": [
    "driver_1, driver_2 = 'PER', 'LEC'\n",
    "# print(quali.laps)"
   ]
  },
  {
   "cell_type": "code",
   "execution_count": 5,
   "id": "208cecb6-3e92-45c5-bdc4-d271872c39cb",
   "metadata": {},
   "outputs": [],
   "source": [
    "# laps can be accessed through the .laps obj from the session\n",
    "laps_driver_1 = quali.laps.pick_driver(driver_1)\n",
    "laps_driver_2 = quali.laps.pick_driver(driver_2)\n",
    "\n",
    "# select fastest lap\n",
    "fastest_driver_1 = laps_driver_1.pick_fastest()\n",
    "fastest_driver_2 = laps_driver_2.pick_fastest()\n",
    "\n",
    "# find telemetry and add the distance column\n",
    "telemetry_driver_1 = fastest_driver_1.get_telemetry().add_distance()\n",
    "telemetry_driver_2 = fastest_driver_2.get_telemetry().add_distance()"
   ]
  },
  {
   "cell_type": "code",
   "execution_count": 6,
   "id": "8290423a-3987-44a4-848a-0c62e8c1f14d",
   "metadata": {},
   "outputs": [],
   "source": [
    "# make sure we know the team name for colouring\n",
    "team_driver_1 = fastest_driver_1['Team']\n",
    "team_driver_2 = fastest_driver_2['Team']"
   ]
  },
  {
   "cell_type": "code",
   "execution_count": 7,
   "id": "f5af7dc0-27f6-41d2-8ed2-89fb9bf8593f",
   "metadata": {},
   "outputs": [
    {
     "name": "stderr",
     "output_type": "stream",
     "text": [
      "C:\\Users\\sk\\Documents\\src\\formula1_python\\venv\\Lib\\site-packages\\fastf1\\utils.py:81: FutureWarning: `utils.delta_time` is considered deprecated and willbe modified or removed in a future release because it hasa tendency to give inaccurate results.\n",
      "  warnings.warn(\"`utils.delta_time` is considered deprecated and will\"\n"
     ]
    }
   ],
   "source": [
    "# extracting delta time\n",
    "delta_time, ref_tel, compare_tel = utils.delta_time(fastest_driver_1, fastest_driver_2)"
   ]
  },
  {
   "cell_type": "code",
   "execution_count": 8,
   "id": "fe7d5c7e-3d9b-4c1f-a01f-a9442bc4154c",
   "metadata": {},
   "outputs": [],
   "source": [
    "plot_size = [15,15]\n",
    "plot_title = f\"{quali.event.year} {quali.event.EventName} - {quali.name} - {driver_1} VS {driver_2}\"\n",
    "plot_ratios = [1,3,2,1,1,2,1]\n",
    "plot_filename = plot_title.replace(\" \", \"\") + \".png\""
   ]
  }
 ],
 "metadata": {
  "kernelspec": {
   "display_name": "Python 3 (ipykernel)",
   "language": "python",
   "name": "python3"
  },
  "language_info": {
   "codemirror_mode": {
    "name": "ipython",
    "version": 3
   },
   "file_extension": ".py",
   "mimetype": "text/x-python",
   "name": "python",
   "nbconvert_exporter": "python",
   "pygments_lexer": "ipython3",
   "version": "3.11.0"
  },
  "vscode": {
   "interpreter": {
    "hash": "c261aea317cc0286b3b3261fbba9abdec21eaa57589985bb7a274bf54d6cc0a7"
   }
  }
 },
 "nbformat": 4,
 "nbformat_minor": 5
}

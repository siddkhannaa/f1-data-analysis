{
 "cells": [
  {
   "cell_type": "code",
   "execution_count": 1,
   "id": "4dcb8209-f228-4240-bce7-9af7ee00cfe9",
   "metadata": {},
   "outputs": [],
   "source": [
    "import fastf1 as ff1\n",
    "from fastf1 import plotting\n",
    "from fastf1 import utils\n",
    "\n",
    "from matplotlib import pyplot as plt\n",
    "from matplotlib.pyplot import figure\n",
    "\n",
    "import numpy as np\n",
    "import pandas as pd\n",
    "\n",
    "ff1.plotting.setup_mpl(misc_mpl_mods=False)"
   ]
  },
  {
   "cell_type": "code",
   "execution_count": 2,
   "id": "f5d8798b-94fc-4819-9ee8-2f37588d0571",
   "metadata": {},
   "outputs": [
    {
     "name": "stderr",
     "output_type": "stream",
     "text": [
      "req         WARNING \t\n",
      "\n",
      "DEFAULT CACHE ENABLED!\n",
      "\tCache directory: C:\\Users\\sk\\AppData\\Local\\Temp\\fastf1.\n",
      "\tSize: 196.94 MB\n",
      "core           INFO \tLoading data for Singapore Grand Prix - Practice 1 [v3.0.7]\n",
      "req            INFO \tNo cached data found for driver_info. Loading data...\n",
      "_api           INFO \tFetching driver list...\n",
      "req            INFO \tData has been written to cache!\n",
      "core        WARNING \tNo result data for this session available on Ergast! (This is expected for recent sessions)\n",
      "req            INFO \tNo cached data found for session_status_data. Loading data...\n",
      "_api           INFO \tFetching session status data...\n",
      "req            INFO \tData has been written to cache!\n",
      "req            INFO \tNo cached data found for track_status_data. Loading data...\n",
      "_api           INFO \tFetching track status data...\n",
      "req            INFO \tData has been written to cache!\n",
      "req            INFO \tNo cached data found for timing_data. Loading data...\n",
      "_api           INFO \tFetching timing data...\n",
      "_api           INFO \tParsing timing data...\n",
      "req            INFO \tData has been written to cache!\n",
      "req            INFO \tNo cached data found for timing_app_data. Loading data...\n",
      "_api           INFO \tFetching timing app data...\n",
      "req            INFO \tData has been written to cache!\n",
      "core           INFO \tProcessing timing data...\n",
      "req            INFO \tNo cached data found for car_data. Loading data...\n",
      "_api           INFO \tFetching car data...\n",
      "_api           INFO \tParsing car data...\n",
      "req            INFO \tData has been written to cache!\n",
      "req            INFO \tNo cached data found for position_data. Loading data...\n",
      "_api           INFO \tFetching position data...\n",
      "_api           INFO \tParsing position data...\n",
      "req            INFO \tData has been written to cache!\n",
      "req            INFO \tNo cached data found for weather_data. Loading data...\n",
      "_api           INFO \tFetching weather data...\n",
      "req            INFO \tData has been written to cache!\n",
      "req            INFO \tNo cached data found for race_control_messages. Loading data...\n",
      "_api           INFO \tFetching race control messages...\n",
      "req            INFO \tData has been written to cache!\n",
      "core           INFO \tFinished loading data for 20 drivers: ['1', '2', '4', '10', '11', '14', '16', '18', '20', '22', '23', '24', '27', '31', '40', '44', '55', '63', '77', '81']\n"
     ]
    }
   ],
   "source": [
    "# get session\n",
    "session = ff1.get_session(2023, 15, 'FP1')\n",
    "session.load()"
   ]
  },
  {
   "cell_type": "code",
   "execution_count": 6,
   "id": "a4589483-31ad-4b8d-a893-fe0a8bcab706",
   "metadata": {},
   "outputs": [
    {
     "name": "stdout",
     "output_type": "stream",
     "text": [
      "   DriverNumber BroadcastName Abbreviation DriverId         TeamName  \\\n",
      "1             1  M VERSTAPPEN          VER           Red Bull Racing   \n",
      "2             2    L SARGEANT          SAR                  Williams   \n",
      "4             4      L NORRIS          NOR                   McLaren   \n",
      "10           10       P GASLY          GAS                    Alpine   \n",
      "11           11       S PEREZ          PER           Red Bull Racing   \n",
      "14           14      F ALONSO          ALO              Aston Martin   \n",
      "16           16     C LECLERC          LEC                   Ferrari   \n",
      "18           18      L STROLL          STR              Aston Martin   \n",
      "20           20   K MAGNUSSEN          MAG              Haas F1 Team   \n",
      "22           22     Y TSUNODA          TSU                AlphaTauri   \n",
      "23           23       A ALBON          ALB                  Williams   \n",
      "24           24        G ZHOU          ZHO                Alfa Romeo   \n",
      "27           27  N HULKENBERG          HUL              Haas F1 Team   \n",
      "31           31        E OCON          OCO                    Alpine   \n",
      "40           40      L LAWSON          LAW                AlphaTauri   \n",
      "44           44    L HAMILTON          HAM                  Mercedes   \n",
      "55           55       C SAINZ          SAI                   Ferrari   \n",
      "63           63     G RUSSELL          RUS                  Mercedes   \n",
      "77           77      V BOTTAS          BOT                Alfa Romeo   \n",
      "81           81     O PIASTRI          PIA                   McLaren   \n",
      "\n",
      "   TeamColor TeamId  FirstName    LastName         FullName  ... CountryCode  \\\n",
      "1     3671C6               Max  Verstappen   Max Verstappen  ...         NED   \n",
      "2     37BEDD             Logan    Sargeant   Logan Sargeant  ...         USA   \n",
      "4     F58020             Lando      Norris     Lando Norris  ...         GBR   \n",
      "10    2293D1            Pierre       Gasly     Pierre Gasly  ...         FRA   \n",
      "11    3671C6            Sergio       Perez     Sergio Perez  ...         MEX   \n",
      "14    358C75          Fernando      Alonso  Fernando Alonso  ...         ESP   \n",
      "16    F91536           Charles     Leclerc  Charles Leclerc  ...         MON   \n",
      "18    358C75             Lance      Stroll     Lance Stroll  ...         CAN   \n",
      "20    B6BABD             Kevin   Magnussen  Kevin Magnussen  ...         DEN   \n",
      "22    5E8FAA              Yuki     Tsunoda     Yuki Tsunoda  ...         JPN   \n",
      "23    37BEDD         Alexander       Albon  Alexander Albon  ...         THA   \n",
      "24    C92D4B            Guanyu        Zhou      Guanyu Zhou  ...         CHN   \n",
      "27    B6BABD              Nico  Hulkenberg  Nico Hulkenberg  ...         GER   \n",
      "31    2293D1           Esteban        Ocon     Esteban Ocon  ...         FRA   \n",
      "40    5E8FAA              Liam      Lawson      Liam Lawson  ...         NZL   \n",
      "44    6CD3BF             Lewis    Hamilton   Lewis Hamilton  ...         GBR   \n",
      "55    F91536            Carlos       Sainz     Carlos Sainz  ...         ESP   \n",
      "63    6CD3BF            George     Russell   George Russell  ...         GBR   \n",
      "77    C92D4B          Valtteri      Bottas  Valtteri Bottas  ...         FIN   \n",
      "81    F58020             Oscar     Piastri    Oscar Piastri  ...         AUS   \n",
      "\n",
      "   Position  ClassifiedPosition GridPosition  Q1  Q2  Q3 Time Status Points  \n",
      "1       NaN                              NaN NaT NaT NaT  NaT           NaN  \n",
      "2       NaN                              NaN NaT NaT NaT  NaT           NaN  \n",
      "4       NaN                              NaN NaT NaT NaT  NaT           NaN  \n",
      "10      NaN                              NaN NaT NaT NaT  NaT           NaN  \n",
      "11      NaN                              NaN NaT NaT NaT  NaT           NaN  \n",
      "14      NaN                              NaN NaT NaT NaT  NaT           NaN  \n",
      "16      NaN                              NaN NaT NaT NaT  NaT           NaN  \n",
      "18      NaN                              NaN NaT NaT NaT  NaT           NaN  \n",
      "20      NaN                              NaN NaT NaT NaT  NaT           NaN  \n",
      "22      NaN                              NaN NaT NaT NaT  NaT           NaN  \n",
      "23      NaN                              NaN NaT NaT NaT  NaT           NaN  \n",
      "24      NaN                              NaN NaT NaT NaT  NaT           NaN  \n",
      "27      NaN                              NaN NaT NaT NaT  NaT           NaN  \n",
      "31      NaN                              NaN NaT NaT NaT  NaT           NaN  \n",
      "40      NaN                              NaN NaT NaT NaT  NaT           NaN  \n",
      "44      NaN                              NaN NaT NaT NaT  NaT           NaN  \n",
      "55      NaN                              NaN NaT NaT NaT  NaT           NaN  \n",
      "63      NaN                              NaN NaT NaT NaT  NaT           NaN  \n",
      "77      NaN                              NaN NaT NaT NaT  NaT           NaN  \n",
      "81      NaN                              NaN NaT NaT NaT  NaT           NaN  \n",
      "\n",
      "[20 rows x 21 columns]\n"
     ]
    }
   ],
   "source": [
    "print(session.results.)"
   ]
  }
 ],
 "metadata": {
  "kernelspec": {
   "display_name": "Python 3 (ipykernel)",
   "language": "python",
   "name": "python3"
  },
  "language_info": {
   "codemirror_mode": {
    "name": "ipython",
    "version": 3
   },
   "file_extension": ".py",
   "mimetype": "text/x-python",
   "name": "python",
   "nbconvert_exporter": "python",
   "pygments_lexer": "ipython3",
   "version": "3.11.0"
  }
 },
 "nbformat": 4,
 "nbformat_minor": 5
}

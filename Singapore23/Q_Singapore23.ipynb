{
 "cells": [
  {
   "cell_type": "code",
   "execution_count": 1,
   "id": "dc32fc64-efa7-46a3-a6ad-7b3a8125701d",
   "metadata": {},
   "outputs": [],
   "source": [
    "import fastf1 as ff1\n",
    "from fastf1 import plotting\n",
    "from fastf1 import utils\n",
    "\n",
    "from matplotlib import pyplot as plt\n",
    "from matplotlib.pyplot import figure\n",
    "\n",
    "import numpy as np\n",
    "import pandas as pd\n",
    "\n",
    "ff1.plotting.setup_mpl(misc_mpl_mods=False)"
   ]
  },
  {
   "cell_type": "code",
   "execution_count": null,
   "id": "8a1d0331-fd97-4422-b26d-7b626740a11e",
   "metadata": {},
   "outputs": [],
   "source": [
    "# get session\n",
    "session = ff1.get_session(2023, 15, 'Q')\n",
    "session.load()"
   ]
  },
  {
   "cell_type": "code",
   "execution_count": 3,
   "id": "7607d7ac-b8a8-4631-8696-c6bb499eeff0",
   "metadata": {},
   "outputs": [
    {
     "name": "stdout",
     "output_type": "stream",
     "text": [
      "\n"
     ]
    }
   ],
   "source": [
    "# look for data\n",
    "print()"
   ]
  }
 ],
 "metadata": {
  "kernelspec": {
   "display_name": "Python 3 (ipykernel)",
   "language": "python",
   "name": "python3"
  },
  "language_info": {
   "codemirror_mode": {
    "name": "ipython",
    "version": 3
   },
   "file_extension": ".py",
   "mimetype": "text/x-python",
   "name": "python",
   "nbconvert_exporter": "python",
   "pygments_lexer": "ipython3",
   "version": "3.11.0"
  }
 },
 "nbformat": 4,
 "nbformat_minor": 5
}

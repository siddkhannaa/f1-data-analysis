{
 "cells": [
  {
   "cell_type": "code",
   "execution_count": 2,
   "id": "016bb3a7-e570-4d5c-854e-93cfbc38f8b5",
   "metadata": {},
   "outputs": [],
   "source": [
    "import fastf1 as ff1\n",
    "from fastf1 import plotting\n",
    "from fastf1 import utils\n",
    "\n",
    "from matplotlib import pyplot as plt\n",
    "from matplotlib.pyplot import figure\n",
    "\n",
    "import numpy as np\n",
    "import pandas as pd\n",
    "\n",
    "ff1.plotting.setup_mpl(misc_mpl_mods=False)"
   ]
  },
  {
   "cell_type": "code",
   "execution_count": null,
   "id": "1d3b5be9-9cd2-4538-ab4d-b471f5dc56c7",
   "metadata": {},
   "outputs": [],
   "source": [
    "# get session\n",
    "session = ff1.get_session(2023, 20, 'R')\n",
    "session.load()"
   ]
  },
  {
   "cell_type": "code",
   "execution_count": null,
   "id": "c63c02a7-7fbc-423a-8a6d-d22b757dfc14",
   "metadata": {},
   "outputs": [],
   "source": []
  },
  {
   "cell_type": "code",
   "execution_count": null,
   "id": "8ba0828b-d5d5-430a-aed9-5b837503ce35",
   "metadata": {},
   "outputs": [],
   "source": []
  }
 ],
 "metadata": {
  "kernelspec": {
   "display_name": "Python 3 (ipykernel)",
   "language": "python",
   "name": "python3"
  },
  "language_info": {
   "codemirror_mode": {
    "name": "ipython",
    "version": 3
   },
   "file_extension": ".py",
   "mimetype": "text/x-python",
   "name": "python",
   "nbconvert_exporter": "python",
   "pygments_lexer": "ipython3",
   "version": "3.11.0"
  }
 },
 "nbformat": 4,
 "nbformat_minor": 5
}

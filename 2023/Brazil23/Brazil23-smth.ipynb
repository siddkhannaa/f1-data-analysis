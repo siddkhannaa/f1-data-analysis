{
 "cells": [
  {
   "cell_type": "code",
   "execution_count": 13,
   "id": "55f909b3-4fa9-4be8-9f93-14e9b4c792bb",
   "metadata": {},
   "outputs": [],
   "source": [
    "import fastf1 as ff1\n",
    "from fastf1 import plotting\n",
    "from fastf1 import utils\n",
    "\n",
    "from matplotlib import pyplot as plt\n",
    "from matplotlib.pyplot import figure\n",
    "\n",
    "import numpy as np\n",
    "import pandas as pd\n",
    "\n",
    "ff1.plotting.setup_mpl(misc_mpl_mods=False)"
   ]
  },
  {
   "cell_type": "code",
   "execution_count": 14,
   "id": "4a1f4c4e-3baa-4257-802f-7ede4e02cbe3",
   "metadata": {},
   "outputs": [
    {
     "name": "stderr",
     "output_type": "stream",
     "text": [
      "core           INFO \tLoading data for Las Vegas Grand Prix - Race [v3.0.7]\n",
      "req            INFO \tNo cached data found for driver_info. Loading data...\n",
      "_api           INFO \tFetching driver list...\n",
      "core        WARNING \tFailed to load extended driver information!\n",
      "core        WARNING \tNo result data for this session available on Ergast! (This is expected for recent sessions)\n",
      "logger      WARNING \tFailed to load results data!\n",
      "req            INFO \tNo cached data found for session_status_data. Loading data...\n",
      "_api           INFO \tFetching session status data...\n",
      "logger      WARNING \tFailed to load session status data!\n",
      "req            INFO \tNo cached data found for lap_count. Loading data...\n",
      "_api           INFO \tFetching lap count data...\n",
      "logger      WARNING \tFailed to load total lap count!\n",
      "req            INFO \tNo cached data found for track_status_data. Loading data...\n",
      "_api           INFO \tFetching track status data...\n",
      "logger      WARNING \tFailed to load track status data!\n",
      "req            INFO \tNo cached data found for timing_data. Loading data...\n",
      "_api           INFO \tFetching timing data...\n",
      "logger      WARNING \tFailed to load timing data!\n",
      "core        WARNING \tCannot load lap times for first lap from Ergast. Timing data is not available for this session.\n",
      "req            INFO \tNo cached data found for car_data. Loading data...\n",
      "_api           INFO \tFetching car data...\n",
      "core        WARNING \tCar telemetry data is unavailable!\n",
      "req            INFO \tNo cached data found for position_data. Loading data...\n",
      "_api           INFO \tFetching position data...\n",
      "core        WARNING \tCar position data is unavailable!\n",
      "core        WARNING \tFailed to determine `Session.t0_date`!\n",
      "req            INFO \tNo cached data found for weather_data. Loading data...\n",
      "_api           INFO \tFetching weather data...\n",
      "logger      WARNING \tFailed to load weather data!\n",
      "req            INFO \tNo cached data found for race_control_messages. Loading data...\n",
      "_api           INFO \tFetching race control messages...\n",
      "logger      WARNING \tFailed to load race control messages!\n"
     ]
    },
    {
     "ename": "DataNotLoadedError",
     "evalue": "The data you are trying to access has not been loaded yet. See `Session.load`",
     "output_type": "error",
     "traceback": [
      "\u001b[1;31m---------------------------------------------------------------------------\u001b[0m",
      "\u001b[1;31mDataNotLoadedError\u001b[0m                        Traceback (most recent call last)",
      "Cell \u001b[1;32mIn[14], line 3\u001b[0m\n\u001b[0;32m      1\u001b[0m \u001b[38;5;66;03m# get session\u001b[39;00m\n\u001b[0;32m      2\u001b[0m session \u001b[38;5;241m=\u001b[39m ff1\u001b[38;5;241m.\u001b[39mget_session(\u001b[38;5;241m2023\u001b[39m, \u001b[38;5;241m21\u001b[39m, \u001b[38;5;124m'\u001b[39m\u001b[38;5;124mR\u001b[39m\u001b[38;5;124m'\u001b[39m)\n\u001b[1;32m----> 3\u001b[0m \u001b[43msession\u001b[49m\u001b[38;5;241;43m.\u001b[39;49m\u001b[43mload\u001b[49m\u001b[43m(\u001b[49m\u001b[43m)\u001b[49m\n",
      "File \u001b[1;32m~\\Documents\\src\\formula1_python\\venv\\Lib\\site-packages\\fastf1\\core.py:1245\u001b[0m, in \u001b[0;36mSession.load\u001b[1;34m(self, laps, telemetry, weather, messages, livedata)\u001b[0m\n\u001b[0;32m   1242\u001b[0m \u001b[38;5;28mself\u001b[39m\u001b[38;5;241m.\u001b[39m_set_laps_deleted_from_rcm()\n\u001b[0;32m   1243\u001b[0m \u001b[38;5;28mself\u001b[39m\u001b[38;5;241m.\u001b[39m_calculate_quali_like_session_results()\n\u001b[1;32m-> 1245\u001b[0m _logger\u001b[38;5;241m.\u001b[39minfo(\u001b[38;5;124mf\u001b[39m\u001b[38;5;124m\"\u001b[39m\u001b[38;5;124mFinished loading data for \u001b[39m\u001b[38;5;132;01m{\u001b[39;00m\u001b[38;5;28mlen\u001b[39m(\u001b[38;5;28;43mself\u001b[39;49m\u001b[38;5;241;43m.\u001b[39;49m\u001b[43mdrivers\u001b[49m)\u001b[38;5;132;01m}\u001b[39;00m\u001b[38;5;124m \u001b[39m\u001b[38;5;124m\"\u001b[39m\n\u001b[0;32m   1246\u001b[0m              \u001b[38;5;124mf\u001b[39m\u001b[38;5;124m\"\u001b[39m\u001b[38;5;124mdrivers: \u001b[39m\u001b[38;5;132;01m{\u001b[39;00m\u001b[38;5;28mself\u001b[39m\u001b[38;5;241m.\u001b[39mdrivers\u001b[38;5;132;01m}\u001b[39;00m\u001b[38;5;124m\"\u001b[39m)\n",
      "File \u001b[1;32m~\\Documents\\src\\formula1_python\\venv\\Lib\\site-packages\\fastf1\\core.py:1058\u001b[0m, in \u001b[0;36mSession.drivers\u001b[1;34m(self)\u001b[0m\n\u001b[0;32m   1051\u001b[0m \u001b[38;5;129m@property\u001b[39m\n\u001b[0;32m   1052\u001b[0m \u001b[38;5;28;01mdef\u001b[39;00m \u001b[38;5;21mdrivers\u001b[39m(\u001b[38;5;28mself\u001b[39m):\n\u001b[0;32m   1053\u001b[0m \u001b[38;5;250m    \u001b[39m\u001b[38;5;124;03m\"\"\":class:`list`: List of all drivers that took part in this\u001b[39;00m\n\u001b[0;32m   1054\u001b[0m \u001b[38;5;124;03m    session; contains driver numbers as string.\u001b[39;00m\n\u001b[0;32m   1055\u001b[0m \n\u001b[0;32m   1056\u001b[0m \u001b[38;5;124;03m    Data is available after calling `Session.load`\u001b[39;00m\n\u001b[0;32m   1057\u001b[0m \u001b[38;5;124;03m    \"\"\"\u001b[39;00m\n\u001b[1;32m-> 1058\u001b[0m     \u001b[38;5;28;01mreturn\u001b[39;00m \u001b[38;5;28mlist\u001b[39m(\u001b[38;5;28;43mself\u001b[39;49m\u001b[38;5;241;43m.\u001b[39;49m\u001b[43mresults\u001b[49m[\u001b[38;5;124m'\u001b[39m\u001b[38;5;124mDriverNumber\u001b[39m\u001b[38;5;124m'\u001b[39m]\u001b[38;5;241m.\u001b[39munique())\n",
      "File \u001b[1;32m~\\Documents\\src\\formula1_python\\venv\\Lib\\site-packages\\fastf1\\core.py:1066\u001b[0m, in \u001b[0;36mSession.results\u001b[1;34m(self)\u001b[0m\n\u001b[0;32m   1060\u001b[0m \u001b[38;5;129m@property\u001b[39m\n\u001b[0;32m   1061\u001b[0m \u001b[38;5;28;01mdef\u001b[39;00m \u001b[38;5;21mresults\u001b[39m(\u001b[38;5;28mself\u001b[39m) \u001b[38;5;241m-\u001b[39m\u001b[38;5;241m>\u001b[39m \u001b[38;5;124m\"\u001b[39m\u001b[38;5;124mSessionResults\u001b[39m\u001b[38;5;124m\"\u001b[39m:\n\u001b[0;32m   1062\u001b[0m \u001b[38;5;250m    \u001b[39m\u001b[38;5;124;03m\"\"\":class:`SessionResults`: Session result with driver information.\u001b[39;00m\n\u001b[0;32m   1063\u001b[0m \n\u001b[0;32m   1064\u001b[0m \u001b[38;5;124;03m    Data is available after calling `Session.load`\u001b[39;00m\n\u001b[0;32m   1065\u001b[0m \u001b[38;5;124;03m    \"\"\"\u001b[39;00m\n\u001b[1;32m-> 1066\u001b[0m     \u001b[38;5;28;01mreturn\u001b[39;00m \u001b[38;5;28;43mself\u001b[39;49m\u001b[38;5;241;43m.\u001b[39;49m\u001b[43m_get_property_warn_not_loaded\u001b[49m\u001b[43m(\u001b[49m\u001b[38;5;124;43m'\u001b[39;49m\u001b[38;5;124;43m_results\u001b[39;49m\u001b[38;5;124;43m'\u001b[39;49m\u001b[43m)\u001b[49m\n",
      "File \u001b[1;32m~\\Documents\\src\\formula1_python\\venv\\Lib\\site-packages\\fastf1\\core.py:1047\u001b[0m, in \u001b[0;36mSession._get_property_warn_not_loaded\u001b[1;34m(self, name)\u001b[0m\n\u001b[0;32m   1045\u001b[0m \u001b[38;5;28;01mdef\u001b[39;00m \u001b[38;5;21m_get_property_warn_not_loaded\u001b[39m(\u001b[38;5;28mself\u001b[39m, name):\n\u001b[0;32m   1046\u001b[0m     \u001b[38;5;28;01mif\u001b[39;00m \u001b[38;5;129;01mnot\u001b[39;00m \u001b[38;5;28mhasattr\u001b[39m(\u001b[38;5;28mself\u001b[39m, name):\n\u001b[1;32m-> 1047\u001b[0m         \u001b[38;5;28;01mraise\u001b[39;00m DataNotLoadedError(\u001b[38;5;124m\"\u001b[39m\u001b[38;5;124mThe data you are trying to access has not \u001b[39m\u001b[38;5;124m\"\u001b[39m\n\u001b[0;32m   1048\u001b[0m                                  \u001b[38;5;124m\"\u001b[39m\u001b[38;5;124mbeen loaded yet. See `Session.load`\u001b[39m\u001b[38;5;124m\"\u001b[39m)\n\u001b[0;32m   1049\u001b[0m     \u001b[38;5;28;01mreturn\u001b[39;00m \u001b[38;5;28mgetattr\u001b[39m(\u001b[38;5;28mself\u001b[39m, name, \u001b[38;5;28;01mNone\u001b[39;00m)\n",
      "\u001b[1;31mDataNotLoadedError\u001b[0m: The data you are trying to access has not been loaded yet. See `Session.load`"
     ]
    }
   ],
   "source": [
    "# get session\n",
    "session = ff1.get_session(2023, 21, 'R')\n",
    "session.load()"
   ]
  },
  {
   "cell_type": "code",
   "execution_count": null,
   "id": "3f387051-2128-41f5-a003-2fcef2d7874a",
   "metadata": {},
   "outputs": [],
   "source": []
  }
 ],
 "metadata": {
  "kernelspec": {
   "display_name": "Python 3 (ipykernel)",
   "language": "python",
   "name": "python3"
  },
  "language_info": {
   "codemirror_mode": {
    "name": "ipython",
    "version": 3
   },
   "file_extension": ".py",
   "mimetype": "text/x-python",
   "name": "python",
   "nbconvert_exporter": "python",
   "pygments_lexer": "ipython3",
   "version": "3.11.0"
  }
 },
 "nbformat": 4,
 "nbformat_minor": 5
}
